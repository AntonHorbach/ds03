{
 "cells": [
  {
   "cell_type": "markdown",
   "id": "f183832e",
   "metadata": {},
   "source": [
    "Напишите программу, которая рассчитывает расход топлива маршрута, на вход подается длина маршрута и расход топлива на 100 километров. Используйте try catch (проверка что пользователь ввел число>0)."
   ]
  },
  {
   "cell_type": "code",
   "execution_count": 19,
   "id": "acd3ddb6",
   "metadata": {},
   "outputs": [
    {
     "name": "stdout",
     "output_type": "stream",
     "text": [
      "Введите длину маршрута: \n",
      "1000\n",
      "Введите расход топлива на 100км: \n",
      "1\n",
      "Требуется топлива на маршрут 10.0\n"
     ]
    }
   ],
   "source": [
    "def read_float(tip):\n",
    "    print(tip)\n",
    "\n",
    "    float_num = float(input())\n",
    "    assert float_num > 0, \"Введенное число должно быть больше нуля\"\n",
    "        \n",
    "    return float_num\n",
    "\n",
    "try:\n",
    "    distance = read_float(\"Введите длину маршрута: \")\n",
    "    fuel_consumption = read_float(\"Введите расход топлива на 100км: \")\n",
    "\n",
    "    print(f\"Требуется топлива на маршрут {distance * (fuel_consumption / 100.0)}\")\n",
    "except BaseException as error:\n",
    "    if (hasattr(error, 'message')):\n",
    "        print(error.message)\n",
    "    else:\n",
    "        print(error)\n",
    "    print(\"Ошибка ввода! Не можем продолжить работу...\")"
   ]
  },
  {
   "cell_type": "markdown",
   "id": "84fa4c07",
   "metadata": {},
   "source": [
    "Напишите программу, которая ищет корни квадратного уравнения вида a*x*x+b*x+c. На вход программы подаются a,b,c. Результатом работы программы – действительные корни или сообщение что корней нет."
   ]
  },
  {
   "cell_type": "code",
   "execution_count": 7,
   "id": "f45c304d",
   "metadata": {},
   "outputs": [
    {
     "name": "stdout",
     "output_type": "stream",
     "text": [
      "Enter a: \n",
      "2\n",
      "Enter b: \n",
      "4\n",
      "Enter c: \n",
      "2\n",
      "-1.0\n"
     ]
    }
   ],
   "source": [
    "import math\n",
    "\n",
    "def read_float(tip):\n",
    "    print(tip)\n",
    "    return float(input())\n",
    "\n",
    "def task():\n",
    "    try:\n",
    "        a = read_float(\"Enter a: \")\n",
    "        b = read_float(\"Enter b: \")\n",
    "        c = read_float(\"Enter c: \")\n",
    "    except ValueError as error:\n",
    "        if (hasattr(error, 'message')):\n",
    "            print(error.message)\n",
    "        else:\n",
    "            print(error)\n",
    "        return\n",
    "\n",
    "    D = b ** 2 - 4 * a * c\n",
    "    \n",
    "    if D > 0:\n",
    "        print((-b + math.sqrt(D)) / (2 * a))\n",
    "        print((-b - math.sqrt(D)) / (2 * a))\n",
    "    elif D == 0:\n",
    "        print((-b) / (2 * a))\n",
    "    else:\n",
    "        print(\"no roots\")\n",
    "\n",
    "        \n",
    "task()"
   ]
  },
  {
   "cell_type": "markdown",
   "id": "36920a63",
   "metadata": {},
   "source": [
    "Напишите программу, находящую наибольшее и наименьшее значение функции y = -26*x**2+25*x-9 на отрезке [-5,5]. Для решения и используйте while и какой то шаг (например 0.1)."
   ]
  },
  {
   "cell_type": "code",
   "execution_count": 23,
   "id": "3b68fd01",
   "metadata": {},
   "outputs": [
    {
     "name": "stdout",
     "output_type": "stream",
     "text": [
      "Min = -784 at -5; Max = -2.999999999999999 at 0.499999999999999\n"
     ]
    }
   ],
   "source": [
    "import math\n",
    "\n",
    "def func(x):\n",
    "    return -26 * (x ** 2) + 25 * x - 9\n",
    "\n",
    "def get_min_max(f, b, e):\n",
    "    assert b < e, \"Начало отрезка должно быть `раньше` конца\"\n",
    "    \n",
    "    step = 0.1\n",
    "    \n",
    "    min = math.inf\n",
    "    max = -math.inf\n",
    "    min_x = math.nan\n",
    "    max_x = math.nan\n",
    "    \n",
    "    while b <= e:\n",
    "        y = f(b)\n",
    "        \n",
    "        min_x, min = (b, y) if y < min else (min_x, min)\n",
    "        max_x, max = (b, y) if y > max else (max_x, max)\n",
    "        \n",
    "        b += step\n",
    "    \n",
    "    return min_x, min, max_x, max\n",
    "\n",
    "begin, end = -5, 5\n",
    "min_x, min, max_x, max = get_min_max(func, begin, end)\n",
    "print(f\"Min = {min} at {min_x}; Max = {max} at {max_x}\")"
   ]
  },
  {
   "cell_type": "code",
   "execution_count": null,
   "id": "2e322fd8",
   "metadata": {},
   "outputs": [],
   "source": []
  }
 ],
 "metadata": {
  "kernelspec": {
   "display_name": "Python 3 (ipykernel)",
   "language": "python",
   "name": "python3"
  },
  "language_info": {
   "codemirror_mode": {
    "name": "ipython",
    "version": 3
   },
   "file_extension": ".py",
   "mimetype": "text/x-python",
   "name": "python",
   "nbconvert_exporter": "python",
   "pygments_lexer": "ipython3",
   "version": "3.9.12"
  }
 },
 "nbformat": 4,
 "nbformat_minor": 5
}
